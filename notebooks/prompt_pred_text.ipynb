{
 "cells": [
  {
   "cell_type": "markdown",
   "metadata": {},
   "source": [
    "Test sur quelques phrases "
   ]
  },
  {
   "cell_type": "code",
   "execution_count": 1,
   "metadata": {},
   "outputs": [
    {
     "name": "stderr",
     "output_type": "stream",
     "text": [
      "2023-09-20 10:39:09.059899: I tensorflow/core/util/port.cc:110] oneDNN custom operations are on. You may see slightly different numerical results due to floating-point round-off errors from different computation orders. To turn them off, set the environment variable `TF_ENABLE_ONEDNN_OPTS=0`.\n",
      "2023-09-20 10:39:09.061017: I tensorflow/tsl/cuda/cudart_stub.cc:28] Could not find cuda drivers on your machine, GPU will not be used.\n",
      "2023-09-20 10:39:09.085228: I tensorflow/tsl/cuda/cudart_stub.cc:28] Could not find cuda drivers on your machine, GPU will not be used.\n",
      "2023-09-20 10:39:09.086232: I tensorflow/core/platform/cpu_feature_guard.cc:182] This TensorFlow binary is optimized to use available CPU instructions in performance-critical operations.\n",
      "To enable the following instructions: AVX2 AVX_VNNI FMA, in other operations, rebuild TensorFlow with the appropriate compiler flags.\n",
      "2023-09-20 10:39:09.534558: W tensorflow/compiler/tf2tensorrt/utils/py_utils.cc:38] TF-TRT Warning: Could not find TensorRT\n"
     ]
    },
    {
     "data": {
      "text/html": [
       "<div>\n",
       "<style scoped>\n",
       "    .dataframe tbody tr th:only-of-type {\n",
       "        vertical-align: middle;\n",
       "    }\n",
       "\n",
       "    .dataframe tbody tr th {\n",
       "        vertical-align: top;\n",
       "    }\n",
       "\n",
       "    .dataframe thead th {\n",
       "        text-align: right;\n",
       "    }\n",
       "</style>\n",
       "<table border=\"1\" class=\"dataframe\">\n",
       "  <thead>\n",
       "    <tr style=\"text-align: right;\">\n",
       "      <th></th>\n",
       "      <th>designation</th>\n",
       "      <th>description</th>\n",
       "      <th>productid</th>\n",
       "      <th>imageid</th>\n",
       "    </tr>\n",
       "  </thead>\n",
       "  <tbody>\n",
       "    <tr>\n",
       "      <th>84916</th>\n",
       "      <td>Folkmanis Puppets - 2732 - Marionnette Et Théâ...</td>\n",
       "      <td>NaN</td>\n",
       "      <td>516376098</td>\n",
       "      <td>1019294171</td>\n",
       "    </tr>\n",
       "    <tr>\n",
       "      <th>84917</th>\n",
       "      <td>Porte Flamme Gaxix - Flamebringer Gaxix - 136/...</td>\n",
       "      <td>NaN</td>\n",
       "      <td>133389013</td>\n",
       "      <td>1274228667</td>\n",
       "    </tr>\n",
       "    <tr>\n",
       "      <th>84918</th>\n",
       "      <td>Pompe de filtration Speck Badu 95</td>\n",
       "      <td>NaN</td>\n",
       "      <td>4128438366</td>\n",
       "      <td>1295960357</td>\n",
       "    </tr>\n",
       "    <tr>\n",
       "      <th>84919</th>\n",
       "      <td>Robot de piscine électrique</td>\n",
       "      <td>&lt;p&gt;Ce robot de piscine d&amp;#39;un design innovan...</td>\n",
       "      <td>3929899732</td>\n",
       "      <td>1265224052</td>\n",
       "    </tr>\n",
       "    <tr>\n",
       "      <th>84920</th>\n",
       "      <td>Hsm Destructeur Securio C16 Coupe Crois¿E: 4 X...</td>\n",
       "      <td>NaN</td>\n",
       "      <td>152993898</td>\n",
       "      <td>940543690</td>\n",
       "    </tr>\n",
       "    <tr>\n",
       "      <th>84921</th>\n",
       "      <td>Cadre Universal Pro Mont Accessoires Pour Dji ...</td>\n",
       "      <td>Cadre Universal Pro Mont Accessoires Pour DJI ...</td>\n",
       "      <td>4181949876</td>\n",
       "      <td>1310030687</td>\n",
       "    </tr>\n",
       "    <tr>\n",
       "      <th>84922</th>\n",
       "      <td>5 Biberons Roses En Pâte À Sucre</td>\n",
       "      <td>Lot de 5 biberons de 3cm de haut en pâte à suc...</td>\n",
       "      <td>3317712987</td>\n",
       "      <td>1206034470</td>\n",
       "    </tr>\n",
       "    <tr>\n",
       "      <th>84923</th>\n",
       "      <td>Maigrir Rester Jeune N°1 Octobre 1974</td>\n",
       "      <td>NaN</td>\n",
       "      <td>3558757378</td>\n",
       "      <td>1222015991</td>\n",
       "    </tr>\n",
       "    <tr>\n",
       "      <th>84924</th>\n",
       "      <td>Grand Canapé 3 Places Chesterfield Blanc</td>\n",
       "      <td>Le véritable canapé Chesterfield 3 places&lt;br /...</td>\n",
       "      <td>4167105045</td>\n",
       "      <td>1306015443</td>\n",
       "    </tr>\n",
       "    <tr>\n",
       "      <th>84925</th>\n",
       "      <td>Piscine Beach Wave 229x229x56 cm 57495NP</td>\n",
       "      <td>&lt;p&gt;Cette piscine gonflable Beach Wave 57495NP ...</td>\n",
       "      <td>3929890142</td>\n",
       "      <td>1265209967</td>\n",
       "    </tr>\n",
       "    <tr>\n",
       "      <th>84926</th>\n",
       "      <td>Cinema N° 123 Du 01/02/1968 - 68  -   La Motoc...</td>\n",
       "      <td>NaN</td>\n",
       "      <td>435926778</td>\n",
       "      <td>1008101584</td>\n",
       "    </tr>\n",
       "    <tr>\n",
       "      <th>84927</th>\n",
       "      <td>Daauphin En Peluche Gris</td>\n",
       "      <td>&lt;p&gt;L&amp;#39;heure de la récréation sera beaucoup ...</td>\n",
       "      <td>4215693685</td>\n",
       "      <td>1317914751</td>\n",
       "    </tr>\n",
       "    <tr>\n",
       "      <th>84928</th>\n",
       "      <td>Modèle De Voiturenitro Starter Kit Glow Plug I...</td>\n",
       "      <td>nitro starter&lt;br /&gt;kit bougies de préchauffage...</td>\n",
       "      <td>4122229036</td>\n",
       "      <td>1294110646</td>\n",
       "    </tr>\n",
       "    <tr>\n",
       "      <th>84929</th>\n",
       "      <td>Arc En Ciel Et Le Lagon Merveilleux</td>\n",
       "      <td>Jeu PC avec windows xp pour les enfants 3-5 an...</td>\n",
       "      <td>269246742</td>\n",
       "      <td>973610497</td>\n",
       "    </tr>\n",
       "    <tr>\n",
       "      <th>84930</th>\n",
       "      <td>Carte Catch Evolution - Matt Striker</td>\n",
       "      <td>NaN</td>\n",
       "      <td>240779180</td>\n",
       "      <td>962611309</td>\n",
       "    </tr>\n",
       "    <tr>\n",
       "      <th>84931</th>\n",
       "      <td>Camionnette De Livraison Morris Ld 150 Vers 19...</td>\n",
       "      <td>NaN</td>\n",
       "      <td>2531564106</td>\n",
       "      <td>1147841409</td>\n",
       "    </tr>\n",
       "    <tr>\n",
       "      <th>84932</th>\n",
       "      <td>Pink Floyd - Mug Wish You Were Here</td>\n",
       "      <td>Mug (grande tasse) en c&amp;eacute;ramique au d&amp;ea...</td>\n",
       "      <td>224997827</td>\n",
       "      <td>957690877</td>\n",
       "    </tr>\n",
       "    <tr>\n",
       "      <th>84933</th>\n",
       "      <td>Humanisme Revue De La  Franc-Maconnerie Franca...</td>\n",
       "      <td>NaN</td>\n",
       "      <td>10114830</td>\n",
       "      <td>257803409</td>\n",
       "    </tr>\n",
       "    <tr>\n",
       "      <th>84934</th>\n",
       "      <td>Mallette Poker 200 Jetons + 2 Jeux Cartes</td>\n",
       "      <td>Avec cette mallette lancez-vous dans la partie...</td>\n",
       "      <td>3741552454</td>\n",
       "      <td>1240162746</td>\n",
       "    </tr>\n",
       "    <tr>\n",
       "      <th>84935</th>\n",
       "      <td>F1 2017 Edition Spéciale Jeu Xbox One</td>\n",
       "      <td>NaN</td>\n",
       "      <td>3684576397</td>\n",
       "      <td>1234513943</td>\n",
       "    </tr>\n",
       "  </tbody>\n",
       "</table>\n",
       "</div>"
      ],
      "text/plain": [
       "                                             designation  \\\n",
       "84916  Folkmanis Puppets - 2732 - Marionnette Et Théâ...   \n",
       "84917  Porte Flamme Gaxix - Flamebringer Gaxix - 136/...   \n",
       "84918                  Pompe de filtration Speck Badu 95   \n",
       "84919                        Robot de piscine électrique   \n",
       "84920  Hsm Destructeur Securio C16 Coupe Crois¿E: 4 X...   \n",
       "84921  Cadre Universal Pro Mont Accessoires Pour Dji ...   \n",
       "84922                   5 Biberons Roses En Pâte À Sucre   \n",
       "84923              Maigrir Rester Jeune N°1 Octobre 1974   \n",
       "84924           Grand Canapé 3 Places Chesterfield Blanc   \n",
       "84925           Piscine Beach Wave 229x229x56 cm 57495NP   \n",
       "84926  Cinema N° 123 Du 01/02/1968 - 68  -   La Motoc...   \n",
       "84927                           Daauphin En Peluche Gris   \n",
       "84928  Modèle De Voiturenitro Starter Kit Glow Plug I...   \n",
       "84929                Arc En Ciel Et Le Lagon Merveilleux   \n",
       "84930               Carte Catch Evolution - Matt Striker   \n",
       "84931  Camionnette De Livraison Morris Ld 150 Vers 19...   \n",
       "84932                Pink Floyd - Mug Wish You Were Here   \n",
       "84933  Humanisme Revue De La  Franc-Maconnerie Franca...   \n",
       "84934          Mallette Poker 200 Jetons + 2 Jeux Cartes   \n",
       "84935              F1 2017 Edition Spéciale Jeu Xbox One   \n",
       "\n",
       "                                             description   productid  \\\n",
       "84916                                                NaN   516376098   \n",
       "84917                                                NaN   133389013   \n",
       "84918                                                NaN  4128438366   \n",
       "84919  <p>Ce robot de piscine d&#39;un design innovan...  3929899732   \n",
       "84920                                                NaN   152993898   \n",
       "84921  Cadre Universal Pro Mont Accessoires Pour DJI ...  4181949876   \n",
       "84922  Lot de 5 biberons de 3cm de haut en pâte à suc...  3317712987   \n",
       "84923                                                NaN  3558757378   \n",
       "84924  Le véritable canapé Chesterfield 3 places<br /...  4167105045   \n",
       "84925  <p>Cette piscine gonflable Beach Wave 57495NP ...  3929890142   \n",
       "84926                                                NaN   435926778   \n",
       "84927  <p>L&#39;heure de la récréation sera beaucoup ...  4215693685   \n",
       "84928  nitro starter<br />kit bougies de préchauffage...  4122229036   \n",
       "84929  Jeu PC avec windows xp pour les enfants 3-5 an...   269246742   \n",
       "84930                                                NaN   240779180   \n",
       "84931                                                NaN  2531564106   \n",
       "84932  Mug (grande tasse) en c&eacute;ramique au d&ea...   224997827   \n",
       "84933                                                NaN    10114830   \n",
       "84934  Avec cette mallette lancez-vous dans la partie...  3741552454   \n",
       "84935                                                NaN  3684576397   \n",
       "\n",
       "          imageid  \n",
       "84916  1019294171  \n",
       "84917  1274228667  \n",
       "84918  1295960357  \n",
       "84919  1265224052  \n",
       "84920   940543690  \n",
       "84921  1310030687  \n",
       "84922  1206034470  \n",
       "84923  1222015991  \n",
       "84924  1306015443  \n",
       "84925  1265209967  \n",
       "84926  1008101584  \n",
       "84927  1317914751  \n",
       "84928  1294110646  \n",
       "84929   973610497  \n",
       "84930   962611309  \n",
       "84931  1147841409  \n",
       "84932   957690877  \n",
       "84933   257803409  \n",
       "84934  1240162746  \n",
       "84935  1234513943  "
      ]
     },
     "execution_count": 1,
     "metadata": {},
     "output_type": "execute_result"
    }
   ],
   "source": [
    "import pandas as pd\n",
    "import numpy as np\n",
    "from nltk.corpus import stopwords\n",
    "import re\n",
    "import pickle\n",
    "import keras\n",
    "from keras.preprocessing.text import Tokenizer\n",
    "from keras.preprocessing.sequence import pad_sequences\n",
    "import matplotlib.pyplot as plt\n",
    "\n",
    "pd.set_option('display.max_rows', 100)\n",
    "\n",
    "df=pd.read_csv('/mnt/c/Users/steph/OneDrive/Images/Rakuten/X_test_update.csv', index_col=0)\n",
    "df.head(20)"
   ]
  },
  {
   "cell_type": "markdown",
   "metadata": {},
   "source": [
    "test preprocessing"
   ]
  },
  {
   "cell_type": "code",
   "execution_count": 2,
   "metadata": {},
   "outputs": [],
   "source": [
    "stop_words = stopwords.words('french') + stopwords.words('english') + stopwords.words('german') +[ \\\n",
    "                'plus', 'peut', 'tout', 'etre', 'sans', 'dont', 'aussi',  \\\n",
    "                  'comme', 'meme', 'bien','leurs', 'elles', 'cette','celui',   \\\n",
    "                  'ainsi', 'encore', 'alors', 'toujours', 'toute','deux', 'nouveau',   \\\n",
    "                  'peu', 'car', 'autre', 'jusqu', 'quand', 'ici', 'ceux', 'enfin',  \\\n",
    "                  'jamais', 'autant', 'tant', 'avoir', 'moin', 'celle', 'tous',   \\\n",
    "                  'contre', 'pourtant', 'quelque', 'toutes', 'surtout', 'cet',  \\\n",
    "                  'comment', 'rien', 'avant', 'doit', 'autre', 'depuis', 'moins',  \\\n",
    "                  'tre', 'souvent', 'etait', 'pouvoir', 'apre', 'non', 'ver', 'quel',   \\\n",
    "                  'pourquoi', 'certain', 'fait', 'faire', 'sou', 'donc', 'trop',  \\\n",
    "                  'quelques', 'parfois', 'tres', 'donc', 'dire', 'eacute', 'egrave',  \\\n",
    "                  'rsquo', 'agrave', 'ecirc', 'nbsp', 'acirc', 'apres', 'autres',  \\\n",
    "                  'ocirc', 'entre', 'sous', 'quelle']"
   ]
  },
  {
   "cell_type": "code",
   "execution_count": 3,
   "metadata": {},
   "outputs": [],
   "source": [
    "import re\n",
    "\n",
    "def CreateTextANDcleaning(data):\n",
    "    df = data\n",
    "    #valeurs MANQUANTES\n",
    "    df['designation'] = df['designation'].astype('string')\n",
    "    df['description'] = df['description'].astype('string')\n",
    "\n",
    "    #create text\n",
    "    df['text']=\"\"\n",
    "    for i in range(df.shape[0]):\n",
    "        df['text'][i] = create_text(df['designation'][i], df['description'][i])\n",
    "\n",
    "    df['text'] = df['text'].str.split()\n",
    "\n",
    "    df['text'] = df['text'].apply(lambda x: unique_description(x))\n",
    "    df['text'] = df['text'].apply(lambda x: \" \".join(x))\n",
    "\n",
    "    df['text'] = df['text'].apply(lambda text : lower_case(text))\n",
    "    df['text'] = df['text'].apply(lambda text : remove_accent(text))\n",
    "\n",
    "    df['text'] = df['text'].apply(lambda text : remove_htmltags(text))\n",
    "    df['text'] = df['text'].apply(lambda text : keeping_essentiel(text))\n",
    "\n",
    "    # Initialiser la variable des mots vides\n",
    "    df['text'] = df['text'].str.split()\n",
    "    df['text']= df['text'].apply(lambda x: operation(x))\n",
    "\n",
    "    df['text'] = df['text'].apply(lambda x: \" \".join(x))\n",
    "\n",
    "    return df['text']\n",
    "\n",
    "\n",
    "def create_text(text1, text2):\n",
    "    if pd.isna(text2):\n",
    "        text = text1\n",
    "    else:\n",
    "        text = text1 +\" \"+ text2\n",
    "    return text\n",
    "\n",
    "def unique_description(text):\n",
    "    unique=[text[0]]\n",
    "    for mot in text:\n",
    "        if mot not in unique:\n",
    "            unique.append(mot)\n",
    "    return unique\n",
    "\n",
    "def lower_case(text):\n",
    "    text = text.lower().strip()\n",
    "    return text\n",
    "\n",
    "def remove_accent(string):\n",
    "    string = string.replace('á', 'a')\n",
    "    string = string.replace('â', 'a')\n",
    "\n",
    "    string = string.replace('é', 'e')\n",
    "    string = string.replace('è', 'e')\n",
    "    string = string.replace('ê', 'e')\n",
    "    string = string.replace('ë', 'e')\n",
    "\n",
    "    string = string.replace('î', 'i')\n",
    "    string = string.replace('ï', 'i')\n",
    "\n",
    "    string = string.replace('ö', 'o')\n",
    "    string = string.replace('ô', 'o')\n",
    "    string = string.replace('ò', 'o')\n",
    "    string = string.replace('ó', 'o')\n",
    "\n",
    "    string = string.replace('ù', 'u')\n",
    "    string = string.replace('û', 'u')\n",
    "    string = string.replace('ü', 'u')\n",
    "\n",
    "    string = string.replace('ç', 'c')\n",
    "\n",
    "    return string\n",
    "\n",
    "def remove_htmltags(text):\n",
    "    text = re.sub('<[^<]+?>', '',text)\n",
    "    return text\n",
    "\n",
    "def keeping_essentiel(text):\n",
    "    text = re.sub(r\"[^a-zA-Z]+\", \" \", text)\n",
    "    return text\n",
    "\n",
    "def operation(x):\n",
    "    my_list=[]\n",
    "    for mot in x:\n",
    "        if (mot not in stop_words and len(mot)>2):\n",
    "            my_list.append(mot)\n",
    "    return my_list"
   ]
  },
  {
   "cell_type": "code",
   "execution_count": 4,
   "metadata": {},
   "outputs": [
    {
     "name": "stdout",
     "output_type": "stream",
     "text": [
      "Robot de piscine électrique\n",
      "<p>Ce robot de piscine d&#39;un design innovant et élégant apportera un nettoyage efficace et rapide. Il est conçu pour tous types de revêtements tels que le vinyle le béton la fibre de verre et la céramique.Avec un dispositif de commande il est facile à régler le cycle de nettoyage et le temps. Il suffit de brancher ce robot et le mettre dans la piscine.Ses deux filtres à paniers intérieurs sont mobiles pour retenir les moindres débits et le nettoyage. Ce robot de piscine robuste d&#39;une vitesse de 4233 gal/h est parfait pour nettoyer la totalité de votre piscine.Avec son boîtier en thermoplaste ce robot de piscine vous donne une belle longévité.</p> <ul><li>Robot de piscine convient aux piscines de tous types</li><li>Contrôlé par l&#39;ordinateur <br /></li><li>Programme de nettoyage et de filtration</li><li>Mur d&#39;escalade</li><li>Longueur du câble: 18 m</li><li>Vitesse: 4233 gal/h</li><li>Protection: IP54</li><li>Puissance: 60 W</li><li>Cycle de nettoyage: 30 / 60 / 90 / 120 s</li><li>Durée du cycle: 15 / 3 / 5 h</li><li>Opération silencieuse</li><li>Facile à utiliser</li><li><br /></li></ul>\n"
     ]
    }
   ],
   "source": [
    "print(df['designation'].iloc[3])\n",
    "print(df['description'].iloc[3])"
   ]
  },
  {
   "cell_type": "code",
   "execution_count": 5,
   "metadata": {},
   "outputs": [
    {
     "data": {
      "text/html": [
       "<div>\n",
       "<style scoped>\n",
       "    .dataframe tbody tr th:only-of-type {\n",
       "        vertical-align: middle;\n",
       "    }\n",
       "\n",
       "    .dataframe tbody tr th {\n",
       "        vertical-align: top;\n",
       "    }\n",
       "\n",
       "    .dataframe thead th {\n",
       "        text-align: right;\n",
       "    }\n",
       "</style>\n",
       "<table border=\"1\" class=\"dataframe\">\n",
       "  <thead>\n",
       "    <tr style=\"text-align: right;\">\n",
       "      <th></th>\n",
       "      <th>designation</th>\n",
       "      <th>description</th>\n",
       "    </tr>\n",
       "  </thead>\n",
       "  <tbody>\n",
       "    <tr>\n",
       "      <th>0</th>\n",
       "      <td>Robot de piscine électrique</td>\n",
       "      <td>&lt;p&gt;Ce robot de piscine d&amp;#39;un design innovan...</td>\n",
       "    </tr>\n",
       "  </tbody>\n",
       "</table>\n",
       "</div>"
      ],
      "text/plain": [
       "                   designation  \\\n",
       "0  Robot de piscine électrique   \n",
       "\n",
       "                                         description  \n",
       "0  <p>Ce robot de piscine d&#39;un design innovan...  "
      ]
     },
     "execution_count": 5,
     "metadata": {},
     "output_type": "execute_result"
    }
   ],
   "source": [
    "designation = \"Robot de piscine électrique\"\n",
    "description = \"<p>Ce robot de piscine d&#39;un design innovant et élégant apportera un nettoyage efficace et rapide.\"\n",
    "\n",
    "data = {'designation': [designation],\n",
    "        'description': [description]}\n",
    "\n",
    "# création d'un dataframe\n",
    "df1 = pd.DataFrame(data)\n",
    "df1 = df1.astype(str)\n",
    "\n",
    "df1.head()"
   ]
  },
  {
   "cell_type": "code",
   "execution_count": 6,
   "metadata": {},
   "outputs": [
    {
     "name": "stdout",
     "output_type": "stream",
     "text": [
      "                   designation  \\\n",
      "0  Robot de piscine électrique   \n",
      "\n",
      "                                         description  \\\n",
      "0  <p>Ce robot de piscine d&#39;un design innovan...   \n",
      "\n",
      "                                                text  \n",
      "0  robot piscine electrique robot design innovant...  \n"
     ]
    },
    {
     "name": "stderr",
     "output_type": "stream",
     "text": [
      "/tmp/ipykernel_8142/3980672797.py:12: SettingWithCopyWarning: \n",
      "A value is trying to be set on a copy of a slice from a DataFrame\n",
      "\n",
      "See the caveats in the documentation: https://pandas.pydata.org/pandas-docs/stable/user_guide/indexing.html#returning-a-view-versus-a-copy\n",
      "  df['text'][i] = create_text(df['designation'][i], df['description'][i])\n"
     ]
    }
   ],
   "source": [
    "# test nettoyage text avec la fonction CreateTextANDcleaning\n",
    "CreateTextANDcleaning(df1)\n",
    "\n",
    "print(df1)"
   ]
  },
  {
   "cell_type": "code",
   "execution_count": 7,
   "metadata": {},
   "outputs": [
    {
     "name": "stdout",
     "output_type": "stream",
     "text": [
      "0    robot piscine electrique robot design innovant...\n",
      "Name: text, dtype: object\n"
     ]
    }
   ],
   "source": [
    "prompt = df1['text'].astype(str)\n",
    "\n",
    "print(prompt)"
   ]
  },
  {
   "cell_type": "code",
   "execution_count": 8,
   "metadata": {},
   "outputs": [
    {
     "name": "stdout",
     "output_type": "stream",
     "text": [
      "0    robot piscine electrique robot design innovant...\n",
      "Name: text, dtype: object\n"
     ]
    }
   ],
   "source": [
    "text1 = df1['text']\n",
    "print(text1)"
   ]
  },
  {
   "cell_type": "code",
   "execution_count": 9,
   "metadata": {},
   "outputs": [],
   "source": [
    "tokenizer = Tokenizer()"
   ]
  },
  {
   "cell_type": "code",
   "execution_count": 11,
   "metadata": {},
   "outputs": [],
   "source": [
    "tokenizer.fit_on_texts(text1)"
   ]
  },
  {
   "cell_type": "code",
   "execution_count": 15,
   "metadata": {},
   "outputs": [],
   "source": [
    "maxlen = 400 \n",
    "text = tokenizer.texts_to_sequences(text1)"
   ]
  },
  {
   "cell_type": "code",
   "execution_count": 16,
   "metadata": {},
   "outputs": [],
   "source": [
    "# utilisation de séquences de même longueur\n",
    "\n",
    "text = keras.preprocessing.sequence.pad_sequences(text,\n",
    "                                                  maxlen = 400,\n",
    "                                                  padding='post') "
   ]
  },
  {
   "cell_type": "code",
   "execution_count": 17,
   "metadata": {},
   "outputs": [
    {
     "name": "stdout",
     "output_type": "stream",
     "text": [
      "[[ 1  2  3  1  4  5  6  7  8  9 10  0  0  0  0  0  0  0  0  0  0  0  0  0\n",
      "   0  0  0  0  0  0  0  0  0  0  0  0  0  0  0  0  0  0  0  0  0  0  0  0\n",
      "   0  0  0  0  0  0  0  0  0  0  0  0  0  0  0  0  0  0  0  0  0  0  0  0\n",
      "   0  0  0  0  0  0  0  0  0  0  0  0  0  0  0  0  0  0  0  0  0  0  0  0\n",
      "   0  0  0  0  0  0  0  0  0  0  0  0  0  0  0  0  0  0  0  0  0  0  0  0\n",
      "   0  0  0  0  0  0  0  0  0  0  0  0  0  0  0  0  0  0  0  0  0  0  0  0\n",
      "   0  0  0  0  0  0  0  0  0  0  0  0  0  0  0  0  0  0  0  0  0  0  0  0\n",
      "   0  0  0  0  0  0  0  0  0  0  0  0  0  0  0  0  0  0  0  0  0  0  0  0\n",
      "   0  0  0  0  0  0  0  0  0  0  0  0  0  0  0  0  0  0  0  0  0  0  0  0\n",
      "   0  0  0  0  0  0  0  0  0  0  0  0  0  0  0  0  0  0  0  0  0  0  0  0\n",
      "   0  0  0  0  0  0  0  0  0  0  0  0  0  0  0  0  0  0  0  0  0  0  0  0\n",
      "   0  0  0  0  0  0  0  0  0  0  0  0  0  0  0  0  0  0  0  0  0  0  0  0\n",
      "   0  0  0  0  0  0  0  0  0  0  0  0  0  0  0  0  0  0  0  0  0  0  0  0\n",
      "   0  0  0  0  0  0  0  0  0  0  0  0  0  0  0  0  0  0  0  0  0  0  0  0\n",
      "   0  0  0  0  0  0  0  0  0  0  0  0  0  0  0  0  0  0  0  0  0  0  0  0\n",
      "   0  0  0  0  0  0  0  0  0  0  0  0  0  0  0  0  0  0  0  0  0  0  0  0\n",
      "   0  0  0  0  0  0  0  0  0  0  0  0  0  0  0  0]]\n"
     ]
    }
   ],
   "source": [
    "print(text)"
   ]
  },
  {
   "cell_type": "code",
   "execution_count": null,
   "metadata": {},
   "outputs": [],
   "source": [
    "# utilisation de séquences de même longueur\n",
    "\n",
    "text = keras.preprocessing.sequence.pad_sequences(text,\n",
    "                                                  maxlen = 400,\n",
    "                                                  padding='post')       "
   ]
  },
  {
   "cell_type": "code",
   "execution_count": null,
   "metadata": {},
   "outputs": [
    {
     "name": "stdout",
     "output_type": "stream",
     "text": [
      "[[ 1  2  3  1  4  5  6  7  8  9 10  0  0  0  0  0  0  0  0  0  0  0  0  0\n",
      "   0  0  0  0  0  0  0  0  0  0  0  0  0  0  0  0  0  0  0  0  0  0  0  0\n",
      "   0  0  0  0  0  0  0  0  0  0  0  0  0  0  0  0  0  0  0  0  0  0  0  0\n",
      "   0  0  0  0  0  0  0  0  0  0  0  0  0  0  0  0  0  0  0  0  0  0  0  0\n",
      "   0  0  0  0  0  0  0  0  0  0  0  0  0  0  0  0  0  0  0  0  0  0  0  0\n",
      "   0  0  0  0  0  0  0  0  0  0  0  0  0  0  0  0  0  0  0  0  0  0  0  0\n",
      "   0  0  0  0  0  0  0  0  0  0  0  0  0  0  0  0  0  0  0  0  0  0  0  0\n",
      "   0  0  0  0  0  0  0  0  0  0  0  0  0  0  0  0  0  0  0  0  0  0  0  0\n",
      "   0  0  0  0  0  0  0  0  0  0  0  0  0  0  0  0  0  0  0  0  0  0  0  0\n",
      "   0  0  0  0  0  0  0  0  0  0  0  0  0  0  0  0  0  0  0  0  0  0  0  0\n",
      "   0  0  0  0  0  0  0  0  0  0  0  0  0  0  0  0  0  0  0  0  0  0  0  0\n",
      "   0  0  0  0  0  0  0  0  0  0  0  0  0  0  0  0  0  0  0  0  0  0  0  0\n",
      "   0  0  0  0  0  0  0  0  0  0  0  0  0  0  0  0  0  0  0  0  0  0  0  0\n",
      "   0  0  0  0  0  0  0  0  0  0  0  0  0  0  0  0  0  0  0  0  0  0  0  0\n",
      "   0  0  0  0  0  0  0  0  0  0  0  0  0  0  0  0  0  0  0  0  0  0  0  0\n",
      "   0  0  0  0  0  0  0  0  0  0  0  0  0  0  0  0  0  0  0  0  0  0  0  0\n",
      "   0  0  0  0  0  0  0  0  0  0  0  0  0  0  0  0]]\n"
     ]
    }
   ],
   "source": [
    "print(text)"
   ]
  },
  {
   "cell_type": "code",
   "execution_count": 18,
   "metadata": {},
   "outputs": [
    {
     "name": "stderr",
     "output_type": "stream",
     "text": [
      "2023-09-20 10:42:15.994810: I tensorflow/compiler/xla/stream_executor/cuda/cuda_gpu_executor.cc:981] could not open file to read NUMA node: /sys/bus/pci/devices/0000:01:00.0/numa_node\n",
      "Your kernel may have been built without NUMA support.\n",
      "2023-09-20 10:42:16.071910: W tensorflow/core/common_runtime/gpu/gpu_device.cc:1960] Cannot dlopen some GPU libraries. Please make sure the missing libraries mentioned above are installed properly if you would like to use GPU. Follow the guide at https://www.tensorflow.org/install/gpu for how to download and setup the required libraries for your platform.\n",
      "Skipping registering GPU devices...\n"
     ]
    }
   ],
   "source": [
    "# Chargement du modèle\n",
    "model_conv1D = keras.models.load_model('/mnt/c/Users/steph/OneDrive/Images/Rakuten/save_data/model.h5/DL_RNN_Conv1D/model.h5checkpoint_Conv1D_08092023_LR_0.001_50Epochs.h5')"
   ]
  },
  {
   "cell_type": "code",
   "execution_count": 19,
   "metadata": {},
   "outputs": [
    {
     "name": "stdout",
     "output_type": "stream",
     "text": [
      "1/1 [==============================] - 0s 55ms/step\n"
     ]
    }
   ],
   "source": [
    "# appel de la prédiction conv1D sur le texte tokenizé \n",
    "y_pred_samples = model_conv1D.predict(text)"
   ]
  },
  {
   "cell_type": "code",
   "execution_count": 20,
   "metadata": {},
   "outputs": [
    {
     "data": {
      "text/plain": [
       "array([[5.26574549e-05, 2.02505407e-03, 8.41385884e-07, 5.38690574e-06,\n",
       "        1.46240109e-05, 3.70797032e-10, 1.56455587e-06, 2.13050171e-05,\n",
       "        1.11993677e-05, 2.00381209e-07, 3.97648837e-05, 1.52313407e-03,\n",
       "        5.84249574e-05, 1.18872806e-04, 7.59746536e-06, 1.49252253e-06,\n",
       "        1.79778399e-05, 1.45799922e-05, 1.79807742e-07, 3.50091341e-06,\n",
       "        4.16812827e-06, 5.08847988e-05, 2.91143544e-04, 9.93678153e-01,\n",
       "        2.05652020e-03, 1.48550825e-07, 6.36236621e-07]], dtype=float32)"
      ]
     },
     "execution_count": 20,
     "metadata": {},
     "output_type": "execute_result"
    }
   ],
   "source": [
    "y_pred_samples"
   ]
  },
  {
   "cell_type": "code",
   "execution_count": 21,
   "metadata": {},
   "outputs": [
    {
     "name": "stdout",
     "output_type": "stream",
     "text": [
      "1/1 [==============================] - 0s 14ms/step\n",
      "Classe prédite : [23]\n",
      "Label prédit : ['Piscine']\n",
      "Probabilités de classe : [5.26574549e-05 2.02505407e-03 8.41385884e-07 5.38690574e-06\n",
      " 1.46240109e-05 3.70797032e-10 1.56455587e-06 2.13050171e-05\n",
      " 1.11993677e-05 2.00381209e-07 3.97648837e-05 1.52313407e-03\n",
      " 5.84249574e-05 1.18872806e-04 7.59746536e-06 1.49252253e-06\n",
      " 1.79778399e-05 1.45799922e-05 1.79807742e-07 3.50091341e-06\n",
      " 4.16812827e-06 5.08847988e-05 2.91143544e-04 9.93678153e-01\n",
      " 2.05652020e-03 1.48550825e-07 6.36236621e-07]\n",
      "Livres adultes: 0.00%\n",
      "Jeux Vidéos: 0.00%\n",
      "Accessoires de Jeux Vidéos: 0.00%\n",
      "Consoles de jeux: 0.00%\n",
      "Figurine: 0.00%\n",
      "Carte à Collectionner: 0.00%\n",
      "Masques: 0.00%\n",
      "Jouets pour Enfants: 0.00%\n",
      "Jeux de Cartes et de société: 0.00%\n",
      "Produits télécommandés: 0.00%\n",
      "Vêtements pour enfants: 0.00%\n",
      "Jouets pour Enfants: 0.00%\n",
      "Produits Bébés et Enfants: 0.00%\n",
      "Literies et Meubles: 0.00%\n",
      "Accessoires Maison: 0.00%\n",
      "Alimentation: 0.00%\n",
      "Décoration d'intérieur: 0.00%\n",
      "Accessoires Animaux: 0.00%\n",
      "Journaux et Magazines: 0.00%\n",
      "Livres et Revues: 0.00%\n",
      "Jeux: 0.00%\n",
      "Papeterie: 0.00%\n",
      "Mobilier: 0.00%\n",
      "Piscine: 0.99%\n",
      "Jardinage: 0.00%\n",
      "Livres: 0.00%\n",
      "Jeux en ligne et Logiciels: 0.00%\n"
     ]
    }
   ],
   "source": [
    "# prédiction avec le modèle xception\n",
    "predictions = model_conv1D.predict(text)\n",
    "\n",
    "# classe prédite en utilisant argmax\n",
    "predicted_class = np.argmax(predictions, axis=1)\n",
    "\n",
    "# la probabilité de chaque classe\n",
    "class_probabilities = predictions[0]\n",
    "\n",
    "# Liste des labels\n",
    "labels = [\"Livres adultes\", \"Jeux Vidéos\", \"Accessoires de Jeux Vidéos\", \"Consoles de jeux\", \"Figurine\", \"Carte à Collectionner\",\n",
    "          \"Masques\", \"Jouets pour Enfants\", \"Jeux de Cartes et de société\", \"Produits télécommandés\",\n",
    "          \"Vêtements pour enfants\", \"Jouets pour Enfants\", \"Produits Bébés et Enfants\",\n",
    "          \"Literies et Meubles\", \"Accessoires Maison\", \"Alimentation\", \"Décoration d'intérieur\", \"Accessoires Animaux\",\n",
    "          \"Journaux et Magazines\", \"Livres et Revues\", \"Jeux\", \"Papeterie\",\n",
    "          \"Mobilier\", \"Piscine\", \"Jardinage\", \"Livres\", \"Jeux en ligne et Logiciels\"]\n",
    "\n",
    "code_produit = [10, 40, 50, 60, 1140, 1160, 1180, 1280, 1281,\n",
    "                1300, 1301, 1302, 1320, 1560, 1920, 1940, 2060,\n",
    "                2220, 2280, 2403, 2462, 2522, 2582, 2583,\n",
    "                2585, 2705, 2905]\n",
    "\n",
    "# Assocation des classes prédites avec les labels\n",
    "predicted_labels = [labels[i] for i in predicted_class]\n",
    "\n",
    "# Affichage des résultats\n",
    "print(\"Classe prédite :\", predicted_class)\n",
    "print(\"Label prédit :\", predicted_labels)\n",
    "print(\"Probabilités de classe :\", class_probabilities)\n",
    "\n",
    "# Affichage des probabilités de chaque classe\n",
    "for label, prob in zip(labels, class_probabilities):\n",
    "    print(f\"{label}: {prob:.2f}%\")"
   ]
  },
  {
   "cell_type": "code",
   "execution_count": null,
   "metadata": {},
   "outputs": [
    {
     "name": "stdout",
     "output_type": "stream",
     "text": [
      "1/1 [==============================] - 0s 15ms/step\n",
      "0    robot piscine electrique robot design innovant...\n",
      "Name: text, dtype: object\n"
     ]
    },
    {
     "data": {
      "image/png": "[encoded data removed]",
      "text/plain": [
       "<Figure size 1000x600 with 2 Axes>"
      ]
     },
     "metadata": {},
     "output_type": "display_data"
    }
   ],
   "source": [
    "# Prédiction avec le modèle xception\n",
    "predictions = model_conv1D.predict(text)\n",
    "\n",
    "# Classe prédite en utilisant argmax\n",
    "predicted_class = np.argmax(predictions, axis=1)\n",
    "\n",
    "# Calcul des probabilités pour chaque classe\n",
    "class_probabilities = predictions[0]  \n",
    "\n",
    "# Liste des labels\n",
    "labels = [\"Livres adultes\", \"Jeux Vidéos\", \"Accessoires de Jeux Vidéos\", \"Consoles de jeux\", \"Figurine\", \"Carte à Collectionner\",\n",
    "          \"Masques\", \"Jouets pour Enfants\", \"Jeux de Cartes et de société\", \"Produits télécommandés\",\n",
    "          \"Vêtements pour enfants\", \"Jouets pour Enfants\", \"Produits Bébés et Enfants\",\n",
    "          \"Literies et Meubles\", \"Accessoires Maison\", \"Alimentation\", \"Décoration d'intérieur\", \"Accessoires Animaux\",\n",
    "          \"Journaux et Magazines\", \"Livres et Revues\", \"Jeux\", \"Papeterie\",\n",
    "          \"Mobilier\", \"Piscine\", \"Jardinage\", \"Livres\", \"Jeux en ligne et Logiciels\"]\n",
    "\n",
    "# Code produit associé aux classes\n",
    "code_produit = [10, 40, 50, 60, 1140, 1160, 1180, 1280, 1281,\n",
    "                1300, 1301, 1302, 1320, 1560, 1920, 1940, 2060,\n",
    "                2220, 2280, 2403, 2462, 2522, 2582, 2583,\n",
    "                2585, 2705, 2905]\n",
    "\n",
    "# Association des classes prédites pour les labels et les codes produits\n",
    "predicted_label = labels[predicted_class[0]]\n",
    "predicted_code = code_produit[predicted_class[0]]\n",
    "\n",
    "\n",
    "# Affichage des résultats\n",
    "#print(\"Classe prédite :\", predicted_class)\n",
    "#print(\"Label prédit :\", predicted_labels)\n",
    "#print(\"Probabilités de classe :\", class_probabilities)\n",
    "\n",
    "# Récupération du texte à prédire\n",
    "text_to_predict = \"texte à prédire :\"\n",
    "\n",
    "# Affichage des probabilités de chaque classe\n",
    "#for label, prob in zip(labels, class_probabilities):\n",
    "#    print(f\"{label}: {prob:.2f}%\")\n",
    "\n",
    "# figure comprenant 1 ligne et 3 colonnes\n",
    "fig, axs = plt.subplots(1, 2, figsize=(10, 6))\n",
    "\n",
    "# Affichage de la classe prédite avec le code produit dans la première colonne\n",
    "axs[0].text(0.5, 0.8, text_to_predict, ha='center', va='center', fontsize=14, fontweight='bold')\n",
    "axs[0].text(0.5, 0.7, \"Arc En Ciel Et Le Lagon Merveilleux\", ha='center', va='center', fontsize=12)\n",
    "axs[0].text(0.5, 0.5, f\"Classe prédite : {predicted_label}\\nCode Produit : {predicted_code}\", ha='center', va='center', fontsize=14)\n",
    "axs[0].axis('off')\n",
    "axs[0].set_title(print(prompt))\n",
    "\n",
    "# Affichage des probabilités pour chaque classe dans la deuxième colonne\n",
    "axs[1].text(0.5, 0.5, \"\", ha='center', va='center', fontsize=12)\n",
    "for i, (label, prob) in enumerate(zip(labels, class_probabilities)):\n",
    "    axs[1].text(0.5, 0.95 - 0.03 * i, f\"{label}: {prob:.2f}%\", ha='center', va='center', fontsize=10)\n",
    "axs[1].axis('off')\n",
    "axs[1].set_title('Probabilités pour chaque classe')\n",
    "\n",
    "# Ajustement de l'espacement entre les graphiques\n",
    "plt.tight_layout()\n",
    "\n",
    "plt.show()"
   ]
  }
 ],
 "metadata": {
  "kernelspec": {
   "display_name": "rakuten_env",
   "language": "python",
   "name": "python3"
  },
  "language_info": {
   "codemirror_mode": {
    "name": "ipython",
    "version": 3
   },
   "file_extension": ".py",
   "mimetype": "text/x-python",
   "name": "python",
   "nbconvert_exporter": "python",
   "pygments_lexer": "ipython3",
   "version": "3.9.18"
  },
  "orig_nbformat": 4
 },
 "nbformat": 4,
 "nbformat_minor": 2
}
